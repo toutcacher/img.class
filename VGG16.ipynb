{
 "cells": [
  {
   "cell_type": "code",
   "execution_count": 1,
   "id": "c30b5b16",
   "metadata": {},
   "outputs": [],
   "source": [
    "import tensorflow as tf\n",
    "from tensorflow.keras.preprocessing.image import ImageDataGenerator\n",
    "from tensorflow.keras.applications import VGG16\n",
    "from tensorflow.keras.layers import GlobalAveragePooling2D, Dense\n",
    "from tensorflow.keras.models import Model\n",
    "from tensorflow.keras.optimizers import Adam"
   ]
  },
  {
   "cell_type": "code",
   "execution_count": 2,
   "id": "9a62328c",
   "metadata": {},
   "outputs": [],
   "source": [
    "# Define image size and directories\n",
    "IMAGE_SIZE = [224, 224]  # VGG16 uses 224x224 input size\n",
    "train_directory = r\"C:\\Users\\castr\\OneDrive\\Desktop\\img.class\\melon_dataset\\train\"\n",
    "test_directory = r\"C:\\Users\\castr\\OneDrive\\Desktop\\img.class\\melon_dataset\\test\"\n",
    "val_directory = r\"C:\\Users\\castr\\OneDrive\\Desktop\\img.class\\melon_dataset\\val\""
   ]
  },
  {
   "cell_type": "code",
   "execution_count": 3,
   "id": "dfc9ba47",
   "metadata": {},
   "outputs": [],
   "source": [
    "# Data augmentation for training set\n",
    "train_datagen = ImageDataGenerator(\n",
    "    rescale=1./255,\n",
    "    shear_range=0.2,\n",
    "    zoom_range=0.2,\n",
    "    horizontal_flip=True\n",
    ")"
   ]
  },
  {
   "cell_type": "code",
   "execution_count": 4,
   "id": "1c646e12",
   "metadata": {},
   "outputs": [],
   "source": [
    "# Data augmentation for testing set (only rescaling)\n",
    "test_datagen = ImageDataGenerator(rescale=1./255)"
   ]
  },
  {
   "cell_type": "code",
   "execution_count": 5,
   "id": "3174753a",
   "metadata": {},
   "outputs": [
    {
     "name": "stdout",
     "output_type": "stream",
     "text": [
      "Found 1920 images belonging to 10 classes.\n",
      "Found 880 images belonging to 10 classes.\n"
     ]
    }
   ],
   "source": [
    "# Load training and testing sets with data augmentation\n",
    "training_set = train_datagen.flow_from_directory(\n",
    "    train_directory,\n",
    "    target_size=IMAGE_SIZE,\n",
    "    batch_size=32,\n",
    "    class_mode='categorical'\n",
    ")\n",
    "\n",
    "test_set = test_datagen.flow_from_directory(\n",
    "    test_directory,\n",
    "    target_size=IMAGE_SIZE,\n",
    "    batch_size=32,\n",
    "    class_mode='categorical'\n",
    ")"
   ]
  },
  {
   "cell_type": "code",
   "execution_count": 6,
   "id": "24434df1",
   "metadata": {},
   "outputs": [],
   "source": [
    "# Add preprocessing layer to the front of VGG16\n",
    "vgg16 = VGG16(input_shape=(224, 224, 3), weights='imagenet', include_top=False)"
   ]
  },
  {
   "cell_type": "code",
   "execution_count": 9,
   "id": "e789160b",
   "metadata": {},
   "outputs": [],
   "source": [
    "# Freeze the layers\n",
    "for layer in vgg16.layers:\n",
    "    layer.trainable = False\n",
    "\n",
    "# Global Average Pooling\n",
    "x = GlobalAveragePooling2D()(vgg16.output)\n",
    "\n",
    "# Fully Connected Layer\n",
    "x = Dense(128, activation='relu')(x)\n",
    "\n",
    "# Output Layer\n",
    "output_tensor = Dense(10, activation='softmax')(x)\n",
    "\n",
    "# Create the model\n",
    "model = Model(inputs=vgg16.input, outputs=output_tensor)\n"
   ]
  },
  {
   "cell_type": "code",
   "execution_count": 10,
   "id": "b923b180",
   "metadata": {},
   "outputs": [],
   "source": [
    "# Compile the model\n",
    "model.compile(\n",
    "    loss='categorical_crossentropy',\n",
    "    optimizer=Adam(learning_rate=0.001),\n",
    "    metrics=['accuracy']\n",
    ")"
   ]
  },
  {
   "cell_type": "code",
   "execution_count": 12,
   "id": "149c3872",
   "metadata": {},
   "outputs": [
    {
     "name": "stdout",
     "output_type": "stream",
     "text": [
      "Epoch 1/10\n",
      "60/60 [==============================] - 308s 5s/step - loss: 1.7865 - accuracy: 0.4464 - val_loss: 1.4263 - val_accuracy: 0.5693\n",
      "Epoch 2/10\n",
      "60/60 [==============================] - 290s 5s/step - loss: 1.3136 - accuracy: 0.6109 - val_loss: 1.0965 - val_accuracy: 0.6614\n",
      "Epoch 3/10\n",
      "60/60 [==============================] - 276s 5s/step - loss: 1.0871 - accuracy: 0.6745 - val_loss: 0.8997 - val_accuracy: 0.7193\n",
      "Epoch 4/10\n",
      "60/60 [==============================] - 270s 5s/step - loss: 0.9435 - accuracy: 0.7203 - val_loss: 0.7671 - val_accuracy: 0.7886\n",
      "Epoch 5/10\n",
      "60/60 [==============================] - 269s 5s/step - loss: 0.8344 - accuracy: 0.7635 - val_loss: 0.7009 - val_accuracy: 0.7955\n",
      "Epoch 6/10\n",
      "60/60 [==============================] - 276s 5s/step - loss: 0.7636 - accuracy: 0.7776 - val_loss: 0.6473 - val_accuracy: 0.8000\n",
      "Epoch 7/10\n",
      "60/60 [==============================] - 285s 5s/step - loss: 0.7059 - accuracy: 0.7891 - val_loss: 0.5818 - val_accuracy: 0.8398\n",
      "Epoch 8/10\n",
      "60/60 [==============================] - 279s 5s/step - loss: 0.6570 - accuracy: 0.8109 - val_loss: 0.5751 - val_accuracy: 0.8205\n",
      "Epoch 9/10\n",
      "60/60 [==============================] - 339s 6s/step - loss: 0.6068 - accuracy: 0.8250 - val_loss: 0.5170 - val_accuracy: 0.8489\n",
      "Epoch 10/10\n",
      "60/60 [==============================] - 284s 5s/step - loss: 0.5752 - accuracy: 0.8281 - val_loss: 0.4765 - val_accuracy: 0.8602\n"
     ]
    }
   ],
   "source": [
    "# Train the model\n",
    "history = model.fit(\n",
    "    training_set,\n",
    "    validation_data=test_set,\n",
    "    epochs=10,\n",
    "    steps_per_epoch=len(training_set),\n",
    "    validation_steps=len(test_set)\n",
    ")"
   ]
  },
  {
   "cell_type": "code",
   "execution_count": 13,
   "id": "cd62b709",
   "metadata": {},
   "outputs": [
    {
     "name": "stderr",
     "output_type": "stream",
     "text": [
      "C:\\Users\\castr\\anaconda3\\Lib\\site-packages\\keras\\src\\engine\\training.py:3000: UserWarning: You are saving your model as an HDF5 file via `model.save()`. This file format is considered legacy. We recommend using instead the native Keras format, e.g. `model.save('my_model.keras')`.\n",
      "  saving_api.save_model(\n"
     ]
    }
   ],
   "source": [
    "# Save the model\n",
    "model.save('melon_species_vgg16.h5')"
   ]
  },
  {
   "cell_type": "code",
   "execution_count": 15,
   "id": "236ef24f",
   "metadata": {},
   "outputs": [
    {
     "data": {
      "text/plain": [
       "<matplotlib.legend.Legend at 0x2b48b5c29d0>"
      ]
     },
     "execution_count": 15,
     "metadata": {},
     "output_type": "execute_result"
    },
    {
     "data": {
      "image/png": "[encoded data removed]",
      "text/plain": [
       "<Figure size 640x480 with 1 Axes>"
      ]
     },
     "metadata": {},
     "output_type": "display_data"
    }
   ],
   "source": [
    "import matplotlib.pyplot as plt\n",
    "\n",
    "# Plot loss and accuracy curves\n",
    "plt.subplot(1, 2, 1)\n",
    "plt.plot(history.history['loss'], label='train loss')\n",
    "plt.plot(history.history['val_loss'], label='val loss')\n",
    "plt.legend()"
   ]
  },
  {
   "cell_type": "code",
   "execution_count": 16,
   "id": "85f4dc98",
   "metadata": {},
   "outputs": [
    {
     "data": {
      "text/plain": [
       "<matplotlib.legend.Legend at 0x2b48b8fb9d0>"
      ]
     },
     "execution_count": 16,
     "metadata": {},
     "output_type": "execute_result"
    },
    {
     "data": {
      "image/png": "[encoded data removed]",
      "text/plain": [
       "<Figure size 640x480 with 1 Axes>"
      ]
     },
     "metadata": {},
     "output_type": "display_data"
    }
   ],
   "source": [
    "plt.subplot(1, 2, 2)\n",
    "plt.plot(history.history['accuracy'], label='train accuracy')\n",
    "plt.plot(history.history['val_accuracy'], label='val accuracy')\n",
    "plt.legend()"
   ]
  },
  {
   "cell_type": "code",
   "execution_count": null,
   "id": "1f43a167",
   "metadata": {},
   "outputs": [],
   "source": []
  }
 ],
 "metadata": {
  "kernelspec": {
   "display_name": "Python 3 (ipykernel)",
   "language": "python",
   "name": "python3"
  },
  "language_info": {
   "codemirror_mode": {
    "name": "ipython",
    "version": 3
   },
   "file_extension": ".py",
   "mimetype": "text/x-python",
   "name": "python",
   "nbconvert_exporter": "python",
   "pygments_lexer": "ipython3",
   "version": "3.11.5"
  }
 },
 "nbformat": 4,
 "nbformat_minor": 5
}
