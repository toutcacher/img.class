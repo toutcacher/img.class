{
 "cells": [
  {
   "cell_type": "code",
   "execution_count": 1,
   "id": "d17f429e",
   "metadata": {},
   "outputs": [],
   "source": [
    "import tensorflow as tf\n",
    "from tensorflow.keras.preprocessing.image import ImageDataGenerator\n",
    "from tensorflow.keras.applications import DenseNet201\n",
    "from tensorflow.keras.layers import GlobalAveragePooling2D, Dense\n",
    "from tensorflow.keras.models import Model\n",
    "from tensorflow.keras.optimizers import Adam\n",
    "import matplotlib.pyplot as plt"
   ]
  },
  {
   "cell_type": "code",
   "execution_count": 2,
   "id": "4647bbf7",
   "metadata": {},
   "outputs": [],
   "source": [
    "# Define image size and directories\n",
    "IMAGE_SIZE = [224, 224]  # VGG16 uses 224x224 input size\n",
    "train_directory = r\"C:\\Users\\castr\\OneDrive\\Desktop\\img.class\\melon_dataset\\train\"\n",
    "test_directory = r\"C:\\Users\\castr\\OneDrive\\Desktop\\img.class\\melon_dataset\\test\"\n",
    "val_directory = r\"C:\\Users\\castr\\OneDrive\\Desktop\\img.class\\melon_dataset\\val\""
   ]
  },
  {
   "cell_type": "code",
   "execution_count": 3,
   "id": "b138b05d",
   "metadata": {},
   "outputs": [],
   "source": [
    "# Data augmentation for training set\n",
    "train_datagen = ImageDataGenerator(\n",
    "    rescale=1./255,\n",
    "    shear_range=0.2,\n",
    "    zoom_range=0.2,\n",
    "    horizontal_flip=True\n",
    ")"
   ]
  },
  {
   "cell_type": "code",
   "execution_count": 4,
   "id": "bd9739b9",
   "metadata": {},
   "outputs": [],
   "source": [
    "# Data augmentation for testing set (only rescaling)\n",
    "test_datagen = ImageDataGenerator(rescale=1./255)"
   ]
  },
  {
   "cell_type": "code",
   "execution_count": 5,
   "id": "d64972d2",
   "metadata": {},
   "outputs": [
    {
     "name": "stdout",
     "output_type": "stream",
     "text": [
      "Found 1920 images belonging to 10 classes.\n",
      "Found 880 images belonging to 10 classes.\n"
     ]
    }
   ],
   "source": [
    "# Load training and testing sets with data augmentation\n",
    "training_set = train_datagen.flow_from_directory(\n",
    "    train_directory,\n",
    "    target_size=IMAGE_SIZE,\n",
    "    batch_size=32,\n",
    "    class_mode='categorical'\n",
    ")\n",
    "\n",
    "test_set = test_datagen.flow_from_directory(\n",
    "    test_directory,\n",
    "    target_size=IMAGE_SIZE,\n",
    "    batch_size=32,\n",
    "    class_mode='categorical'\n",
    ")"
   ]
  },
  {
   "cell_type": "code",
   "execution_count": 6,
   "id": "aa442c8b",
   "metadata": {},
   "outputs": [],
   "source": [
    "# Add preprocessing layer to the front of DenseNet121\n",
    "densenet = DenseNet201(input_shape=(224, 224, 3), weights='imagenet', include_top=False)"
   ]
  },
  {
   "cell_type": "code",
   "execution_count": 7,
   "id": "924726c2",
   "metadata": {},
   "outputs": [],
   "source": [
    "# Freeze the layers\n",
    "for layer in densenet.layers:\n",
    "    layer.trainable = False\n",
    "    \n",
    "# Global Average Pooling\n",
    "x = GlobalAveragePooling2D()(densenet.output)\n",
    "\n",
    "# Fully Connected Layer\n",
    "x = Dense(128, activation='relu')(x)\n",
    "\n",
    "# Output Layer\n",
    "output_tensor = Dense(10, activation='softmax')(x)\n",
    "\n",
    "# Create the model\n",
    "model = Model(inputs=densenet.input, outputs=output_tensor)"
   ]
  },
  {
   "cell_type": "code",
   "execution_count": 8,
   "id": "665f404a",
   "metadata": {},
   "outputs": [],
   "source": [
    "# Compile the model\n",
    "model.compile(\n",
    "    loss='categorical_crossentropy',\n",
    "    optimizer=Adam(learning_rate=0.001),\n",
    "    metrics=['accuracy']\n",
    ")"
   ]
  },
  {
   "cell_type": "code",
   "execution_count": 9,
   "id": "e29c3981",
   "metadata": {},
   "outputs": [
    {
     "name": "stdout",
     "output_type": "stream",
     "text": [
      "Epoch 1/10\n",
      "60/60 [==============================] - 250s 4s/step - loss: 0.8821 - accuracy: 0.7240 - val_loss: 0.2995 - val_accuracy: 0.9114\n",
      "Epoch 2/10\n",
      "60/60 [==============================] - 291s 5s/step - loss: 0.3049 - accuracy: 0.9109 - val_loss: 0.1917 - val_accuracy: 0.9409\n",
      "Epoch 3/10\n",
      "60/60 [==============================] - 461s 8s/step - loss: 0.1857 - accuracy: 0.9531 - val_loss: 0.1585 - val_accuracy: 0.9489\n",
      "Epoch 4/10\n",
      "60/60 [==============================] - 464s 8s/step - loss: 0.1400 - accuracy: 0.9589 - val_loss: 0.1359 - val_accuracy: 0.9545\n",
      "Epoch 5/10\n",
      "60/60 [==============================] - 467s 8s/step - loss: 0.1173 - accuracy: 0.9656 - val_loss: 0.0928 - val_accuracy: 0.9784\n",
      "Epoch 6/10\n",
      "60/60 [==============================] - 468s 8s/step - loss: 0.0902 - accuracy: 0.9766 - val_loss: 0.1093 - val_accuracy: 0.9670\n",
      "Epoch 7/10\n",
      "60/60 [==============================] - 477s 8s/step - loss: 0.0782 - accuracy: 0.9786 - val_loss: 0.0857 - val_accuracy: 0.9784\n",
      "Epoch 8/10\n",
      "60/60 [==============================] - 514s 9s/step - loss: 0.0794 - accuracy: 0.9792 - val_loss: 0.0871 - val_accuracy: 0.9773\n",
      "Epoch 9/10\n",
      "60/60 [==============================] - 541s 9s/step - loss: 0.0605 - accuracy: 0.9849 - val_loss: 0.0687 - val_accuracy: 0.9841\n",
      "Epoch 10/10\n",
      "60/60 [==============================] - 337s 6s/step - loss: 0.0411 - accuracy: 0.9911 - val_loss: 0.0639 - val_accuracy: 0.9875\n"
     ]
    }
   ],
   "source": [
    "# Train the model\n",
    "history = model.fit(\n",
    "    training_set,\n",
    "    validation_data=test_set,\n",
    "    epochs=10,\n",
    "    steps_per_epoch=len(training_set),\n",
    "    validation_steps=len(test_set)\n",
    ")"
   ]
  },
  {
   "cell_type": "code",
   "execution_count": 10,
   "id": "b03c0fe7",
   "metadata": {},
   "outputs": [
    {
     "name": "stderr",
     "output_type": "stream",
     "text": [
      "C:\\Users\\castr\\anaconda3\\Lib\\site-packages\\keras\\src\\engine\\training.py:3000: UserWarning: You are saving your model as an HDF5 file via `model.save()`. This file format is considered legacy. We recommend using instead the native Keras format, e.g. `model.save('my_model.keras')`.\n",
      "  saving_api.save_model(\n"
     ]
    }
   ],
   "source": [
    "# Save the model\n",
    "model.save('melon_species_densenet201.h5')"
   ]
  },
  {
   "cell_type": "code",
   "execution_count": 11,
   "id": "225a22ca",
   "metadata": {},
   "outputs": [
    {
     "data": {
      "text/plain": [
       "<matplotlib.legend.Legend at 0x13180513290>"
      ]
     },
     "execution_count": 11,
     "metadata": {},
     "output_type": "execute_result"
    },
    {
     "data": {
      "image/png": "[encoded data removed]",
      "text/plain": [
       "<Figure size 640x480 with 1 Axes>"
      ]
     },
     "metadata": {},
     "output_type": "display_data"
    }
   ],
   "source": [
    "# Plot loss and accuracy curves\n",
    "plt.subplot(1, 2, 1)\n",
    "plt.plot(history.history['loss'], label='train loss')\n",
    "plt.plot(history.history['val_loss'], label='val loss')\n",
    "plt.legend()"
   ]
  },
  {
   "cell_type": "code",
   "execution_count": 12,
   "id": "a90b07b8",
   "metadata": {},
   "outputs": [
    {
     "data": {
      "text/plain": [
       "<matplotlib.legend.Legend at 0x131ec887850>"
      ]
     },
     "execution_count": 12,
     "metadata": {},
     "output_type": "execute_result"
    },
    {
     "data": {
      "image/png": "[encoded data removed]",
      "text/plain": [
       "<Figure size 640x480 with 1 Axes>"
      ]
     },
     "metadata": {},
     "output_type": "display_data"
    }
   ],
   "source": [
    "plt.subplot(1, 2, 2)\n",
    "plt.plot(history.history['accuracy'], label='train accuracy')\n",
    "plt.plot(history.history['val_accuracy'], label='val accuracy')\n",
    "plt.legend()"
   ]
  },
  {
   "cell_type": "code",
   "execution_count": null,
   "id": "655733c3",
   "metadata": {},
   "outputs": [],
   "source": []
  }
 ],
 "metadata": {
  "kernelspec": {
   "display_name": "Python 3 (ipykernel)",
   "language": "python",
   "name": "python3"
  },
  "language_info": {
   "codemirror_mode": {
    "name": "ipython",
    "version": 3
   },
   "file_extension": ".py",
   "mimetype": "text/x-python",
   "name": "python",
   "nbconvert_exporter": "python",
   "pygments_lexer": "ipython3",
   "version": "3.11.5"
  }
 },
 "nbformat": 4,
 "nbformat_minor": 5
}
