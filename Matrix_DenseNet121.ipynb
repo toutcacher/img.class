{
 "cells": [
  {
   "cell_type": "code",
   "execution_count": 1,
   "id": "c1ad9bb7",
   "metadata": {},
   "outputs": [],
   "source": [
    "from tensorflow.keras.preprocessing.image import ImageDataGenerator\n",
    "from tensorflow.keras.models import load_model\n",
    "from sklearn.metrics import confusion_matrix, classification_report\n",
    "import seaborn as sns\n",
    "import matplotlib.pyplot as plt\n",
    "import numpy as np"
   ]
  },
  {
   "cell_type": "code",
   "execution_count": 3,
   "id": "4019889a",
   "metadata": {},
   "outputs": [],
   "source": [
    "# Define image size\n",
    "IMAGE_SIZE = [244, 244]\n"
   ]
  },
  {
   "cell_type": "code",
   "execution_count": 4,
   "id": "77052b54",
   "metadata": {},
   "outputs": [],
   "source": [
    "# Define directories\n",
    "train_directory = r\"C:\\Users\\castr\\OneDrive\\Desktop\\img.class\\melon_dataset\\train\"\n",
    "test_directory = r\"C:\\Users\\castr\\OneDrive\\Desktop\\img.class\\melon_dataset\\test\"\n",
    "val_directory = r\"C:\\Users\\castr\\OneDrive\\Desktop\\img.class\\melon_dataset\\val\""
   ]
  },
  {
   "cell_type": "code",
   "execution_count": 5,
   "id": "b6827486",
   "metadata": {},
   "outputs": [],
   "source": [
    "# Load the saved model\n",
    "saved_model_path = 'melon_species_DenseNet121.h5'\n",
    "loaded_model = load_model(saved_model_path, compile=False)"
   ]
  },
  {
   "cell_type": "code",
   "execution_count": 7,
   "id": "37004c37",
   "metadata": {},
   "outputs": [],
   "source": [
    "# Define the labels\n",
    "labels = {\n",
    "    0: 'BITTER MELON',\n",
    "    1: 'CHARENTAIS MELON',\n",
    "    2: 'CHENSHAW MELON',\n",
    "    3: 'CUCA MELON',\n",
    "    4: 'GAC MELON',\n",
    "    5: 'HORNED MELON',\n",
    "    6: 'PEPINO MELON',\n",
    "    7: 'PERSIAN MELON',\n",
    "    8: 'WATERMELON',\n",
    "    9: 'WINTER MELON',\n",
    "}"
   ]
  },
  {
   "cell_type": "code",
   "execution_count": 8,
   "id": "db5c30d5",
   "metadata": {},
   "outputs": [
    {
     "name": "stdout",
     "output_type": "stream",
     "text": [
      "Found 880 images belonging to 10 classes.\n"
     ]
    }
   ],
   "source": [
    "# Define data generators\n",
    "test_datagen = ImageDataGenerator(rescale=1./255)\n",
    "test_set = test_datagen.flow_from_directory(\n",
    "    test_directory,\n",
    "    target_size=(IMAGE_SIZE[0], IMAGE_SIZE[1]),\n",
    "    batch_size=1,  # Set batch size to 1 for prediction\n",
    "    class_mode='categorical',  # Adjust if using different class mode\n",
    "    shuffle=False  # Important to keep the order of predictions\n",
    ")"
   ]
  },
  {
   "cell_type": "code",
   "execution_count": 9,
   "id": "4e9ab494",
   "metadata": {},
   "outputs": [
    {
     "name": "stdout",
     "output_type": "stream",
     "text": [
      "880/880 [==============================] - 171s 190ms/step\n"
     ]
    }
   ],
   "source": [
    "# Make predictions on the test set\n",
    "y_pred_prob = loaded_model.predict(test_set)\n",
    "y_pred = np.argmax(y_pred_prob, axis=1)"
   ]
  },
  {
   "cell_type": "code",
   "execution_count": 10,
   "id": "b66ee836",
   "metadata": {},
   "outputs": [],
   "source": [
    "# Get the true labels\n",
    "y_true = test_set.classes"
   ]
  },
  {
   "cell_type": "code",
   "execution_count": 11,
   "id": "955101b1",
   "metadata": {},
   "outputs": [],
   "source": [
    "# Create a confusion matrix\n",
    "conf_matrix = confusion_matrix(y_true, y_pred)"
   ]
  },
  {
   "cell_type": "code",
   "execution_count": null,
   "id": "268044d2",
   "metadata": {},
   "outputs": [],
   "source": [
    "# Plot the confusion matrix\n",
    "plt.figure(figsize=(10, 8))\n",
    "sns.heatmap(conf_matrix, annot=True, fmt='g', cmap=sns.light_palette(\"pink\", as_cmap=True), xticklabels=labels.values(), yticklabels=labels.values())\n",
    "plt.xlabel('Predicted')\n",
    "plt.ylabel('True')\n",
    "plt.title('Confusion Matrix of DenseNet169')\n",
    "plt.show()\n"
   ]
  }
 ],
 "metadata": {
  "kernelspec": {
   "display_name": "Python 3 (ipykernel)",
   "language": "python",
   "name": "python3"
  },
  "language_info": {
   "codemirror_mode": {
    "name": "ipython",
    "version": 3
   },
   "file_extension": ".py",
   "mimetype": "text/x-python",
   "name": "python",
   "nbconvert_exporter": "python",
   "pygments_lexer": "ipython3",
   "version": "3.11.5"
  }
 },
 "nbformat": 4,
 "nbformat_minor": 5
}
