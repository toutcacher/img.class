{
 "cells": [
  {
   "cell_type": "code",
   "execution_count": 12,
   "id": "00320901",
   "metadata": {},
   "outputs": [],
   "source": [
    "import tensorflow as tf\n",
    "from tensorflow.keras.preprocessing.image import ImageDataGenerator, load_img, img_to_array\n",
    "from tensorflow.keras.applications import InceptionV3\n",
    "from tensorflow.keras.layers import Input, Flatten, Dense\n",
    "from tensorflow.keras.models import Model, load_model\n",
    "from tensorflow.keras.optimizers import Adam\n",
    "import matplotlib.pyplot as plt\n",
    "import os"
   ]
  },
  {
   "cell_type": "code",
   "execution_count": 13,
   "id": "14bba90b",
   "metadata": {},
   "outputs": [],
   "source": [
    "# Define image size and directories\n",
    "IMAGE_SIZE = [299, 299]\n",
    "train_directory = r\"C:\\Users\\castr\\OneDrive\\Desktop\\img.class\\melon_dataset\\train\"\n",
    "test_directory = r\"C:\\Users\\castr\\OneDrive\\Desktop\\img.class\\melon_dataset\\test\"\n",
    "val_directory = r\"C:\\Users\\castr\\OneDrive\\Desktop\\img.class\\melon_dataset\\val\""
   ]
  },
  {
   "cell_type": "code",
   "execution_count": 14,
   "id": "db9b553a",
   "metadata": {},
   "outputs": [],
   "source": [
    "# Add preprocessing layer to the front of InceptionV3\n",
    "inception = InceptionV3(input_shape=IMAGE_SIZE + [3], weights='imagenet', include_top=False)"
   ]
  },
  {
   "cell_type": "code",
   "execution_count": 15,
   "id": "b0db554f",
   "metadata": {},
   "outputs": [],
   "source": [
    "# Don't train existing weights\n",
    "for layer in inception.layers:\n",
    "    layer.trainable = False"
   ]
  },
  {
   "cell_type": "code",
   "execution_count": 16,
   "id": "2e94ac01",
   "metadata": {},
   "outputs": [],
   "source": [
    "# Get the number of classes\n",
    "num_classes = len(os.listdir(train_directory))"
   ]
  },
  {
   "cell_type": "code",
   "execution_count": 17,
   "id": "ce555df6",
   "metadata": {},
   "outputs": [],
   "source": [
    "# Build the model\n",
    "x = Flatten()(inception.output)\n",
    "prediction = Dense(num_classes, activation='softmax')(x)\n",
    "model = Model(inputs=inception.input, outputs=prediction)"
   ]
  },
  {
   "cell_type": "code",
   "execution_count": 18,
   "id": "0243a1c9",
   "metadata": {},
   "outputs": [],
   "source": [
    "# Compile the model\n",
    "model.compile(\n",
    "    loss='categorical_crossentropy',\n",
    "    optimizer=Adam(learning_rate=0.001),\n",
    "    metrics=['accuracy']\n",
    ")"
   ]
  },
  {
   "cell_type": "code",
   "execution_count": 19,
   "id": "74402fbd",
   "metadata": {},
   "outputs": [],
   "source": [
    "# Data augmentation for training set\n",
    "train_datagen = ImageDataGenerator(\n",
    "    rescale=1./255,\n",
    "    shear_range=0.2,\n",
    "    zoom_range=0.2,\n",
    "    horizontal_flip=True\n",
    ")"
   ]
  },
  {
   "cell_type": "code",
   "execution_count": 20,
   "id": "0ec9d078",
   "metadata": {},
   "outputs": [],
   "source": [
    "\n",
    "# Data augmentation for testing set (only rescaling)\n",
    "test_datagen = ImageDataGenerator(rescale=1./255)"
   ]
  },
  {
   "cell_type": "code",
   "execution_count": 21,
   "id": "8111ce6a",
   "metadata": {},
   "outputs": [
    {
     "name": "stdout",
     "output_type": "stream",
     "text": [
      "Found 1920 images belonging to 10 classes.\n",
      "Found 880 images belonging to 10 classes.\n"
     ]
    }
   ],
   "source": [
    "# Load training and testing sets with data augmentation\n",
    "training_set = train_datagen.flow_from_directory(\n",
    "    train_directory,\n",
    "    target_size=(299, 299),\n",
    "    batch_size=32,\n",
    "    class_mode='categorical'\n",
    ")\n",
    "\n",
    "test_set = test_datagen.flow_from_directory(\n",
    "    test_directory,\n",
    "    target_size=(299, 299),\n",
    "    batch_size=32,\n",
    "    class_mode='categorical'\n",
    ")"
   ]
  },
  {
   "cell_type": "code",
   "execution_count": 25,
   "id": "e1be42b7",
   "metadata": {},
   "outputs": [
    {
     "name": "stdout",
     "output_type": "stream",
     "text": [
      "Epoch 1/10\n",
      "50/50 [==============================] - ETA: 0s - loss: 1.9288 - accuracy: 0.8481WARNING:tensorflow:Your input ran out of data; interrupting training. Make sure that your dataset or generator can generate at least `steps_per_epoch * epochs` batches (in this case, 56 batches). You may need to use the repeat() function when building your dataset.\n",
      "50/50 [==============================] - 207s 4s/step - loss: 1.9288 - accuracy: 0.8481 - val_loss: 1.1244 - val_accuracy: 0.8943\n",
      "Epoch 2/10\n",
      "50/50 [==============================] - 136s 3s/step - loss: 1.3073 - accuracy: 0.8881\n",
      "Epoch 3/10\n",
      "50/50 [==============================] - 164s 3s/step - loss: 0.8239 - accuracy: 0.9187\n",
      "Epoch 4/10\n",
      "50/50 [==============================] - 231s 5s/step - loss: 1.0232 - accuracy: 0.9194\n",
      "Epoch 5/10\n",
      "50/50 [==============================] - 206s 4s/step - loss: 0.9001 - accuracy: 0.9388\n",
      "Epoch 6/10\n",
      "50/50 [==============================] - 184s 4s/step - loss: 0.4001 - accuracy: 0.9600\n",
      "Epoch 7/10\n",
      "50/50 [==============================] - 216s 4s/step - loss: 0.5309 - accuracy: 0.9581\n",
      "Epoch 8/10\n",
      "50/50 [==============================] - 226s 4s/step - loss: 0.5801 - accuracy: 0.9506\n",
      "Epoch 9/10\n",
      "50/50 [==============================] - 205s 4s/step - loss: 0.5480 - accuracy: 0.9550\n",
      "Epoch 10/10\n",
      "50/50 [==============================] - 208s 4s/step - loss: 0.7359 - accuracy: 0.9450\n"
     ]
    }
   ],
   "source": [
    "# Train the model\n",
    "history = model.fit(\n",
    "    training_set,\n",
    "    validation_data=test_set,\n",
    "    epochs=10,\n",
    "    steps_per_epoch=50,  # Adjust this value\n",
    "    validation_steps=len(test_set) * 2\n",
    ")"
   ]
  },
  {
   "cell_type": "code",
   "execution_count": null,
   "id": "6e586c73",
   "metadata": {},
   "outputs": [],
   "source": [
    "# Save the model\n",
    "model.save('melon_species_inceptionv3.h5')"
   ]
  },
  {
   "cell_type": "code",
   "execution_count": null,
   "id": "4af688d3",
   "metadata": {},
   "outputs": [],
   "source": []
  }
 ],
 "metadata": {
  "kernelspec": {
   "display_name": "Python 3 (ipykernel)",
   "language": "python",
   "name": "python3"
  },
  "language_info": {
   "codemirror_mode": {
    "name": "ipython",
    "version": 3
   },
   "file_extension": ".py",
   "mimetype": "text/x-python",
   "name": "python",
   "nbconvert_exporter": "python",
   "pygments_lexer": "ipython3",
   "version": "3.11.5"
  }
 },
 "nbformat": 4,
 "nbformat_minor": 5
}
