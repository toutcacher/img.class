{
 "cells": [
  {
   "cell_type": "code",
   "execution_count": 48,
   "id": "00320901",
   "metadata": {},
   "outputs": [],
   "source": [
    "import tensorflow as tf\n",
    "from tensorflow.keras.preprocessing.image import ImageDataGenerator, load_img, img_to_array\n",
    "from tensorflow.keras.applications import InceptionV3\n",
    "from tensorflow.keras.layers import Input, Flatten, Dense\n",
    "from tensorflow.keras.models import Model, load_model\n",
    "from tensorflow.keras.layers import GlobalAveragePooling2D\n",
    "from tensorflow.keras.optimizers import Adam\n",
    "import matplotlib.pyplot as plt\n",
    "import os"
   ]
  },
  {
   "cell_type": "code",
   "execution_count": 49,
   "id": "882fc2f3",
   "metadata": {},
   "outputs": [],
   "source": [
    "# Define image size and directories\n",
    "IMAGE_SIZE = [299, 299]\n",
    "train_directory = r\"C:\\Users\\castr\\OneDrive\\Desktop\\img.class\\melon_dataset\\train\"\n",
    "test_directory = r\"C:\\Users\\castr\\OneDrive\\Desktop\\img.class\\melon_dataset\\test\"\n",
    "val_directory = r\"C:\\Users\\castr\\OneDrive\\Desktop\\img.class\\melon_dataset\\val\""
   ]
  },
  {
   "cell_type": "code",
   "execution_count": 50,
   "id": "e5501378",
   "metadata": {},
   "outputs": [],
   "source": [
    "# Data augmentation for training set\n",
    "train_datagen = ImageDataGenerator(\n",
    "    rescale=1./255,\n",
    "    shear_range=0.2,\n",
    "    zoom_range=0.2,\n",
    "    horizontal_flip=True\n",
    ")"
   ]
  },
  {
   "cell_type": "code",
   "execution_count": 51,
   "id": "0aed1252",
   "metadata": {},
   "outputs": [],
   "source": [
    "# Data augmentation for testing set (only rescaling)\n",
    "test_datagen = ImageDataGenerator(rescale=1./255)\n"
   ]
  },
  {
   "cell_type": "code",
   "execution_count": 52,
   "id": "bae426ab",
   "metadata": {},
   "outputs": [
    {
     "name": "stdout",
     "output_type": "stream",
     "text": [
      "Found 1920 images belonging to 10 classes.\n",
      "Found 880 images belonging to 10 classes.\n"
     ]
    }
   ],
   "source": [
    "# Load training and testing sets with data augmentation\n",
    "training_set = train_datagen.flow_from_directory(\n",
    "    train_directory,\n",
    "    target_size=(299, 299),  # Adjust based on InceptionV3 input size\n",
    "    batch_size=32,\n",
    "    class_mode='categorical'\n",
    ")\n",
    "\n",
    "test_set = test_datagen.flow_from_directory(\n",
    "    test_directory,\n",
    "    target_size=(299, 299),  # Adjust based on InceptionV3 input size\n",
    "    batch_size=32,\n",
    "    class_mode='categorical'\n",
    ")"
   ]
  },
  {
   "cell_type": "code",
   "execution_count": 53,
   "id": "a30cc8f9",
   "metadata": {},
   "outputs": [],
   "source": [
    "# Add preprocessing layer to the front of InceptionV3\n",
    "inception = InceptionV3(input_shape=(299, 299, 3), weights='imagenet', include_top=False)\n"
   ]
  },
  {
   "cell_type": "code",
   "execution_count": 54,
   "id": "cc1698f3",
   "metadata": {},
   "outputs": [],
   "source": [
    "# Freeze the layers\n",
    "for layer in inception.layers:\n",
    "    layer.trainable = False\n",
    "    \n",
    "    # Global Average Pooling\n",
    "x = GlobalAveragePooling2D()(inception.output)\n",
    "\n",
    "# Fully Connected Layer\n",
    "x = Dense(128, activation='relu')(x)\n",
    "\n",
    "# Output Layer\n",
    "output_tensor = Dense(10, activation='softmax')(x)\n",
    "\n",
    "# Create the model\n",
    "model = Model(inputs=inception.input, outputs=output_tensor)"
   ]
  },
  {
   "cell_type": "code",
   "execution_count": 55,
   "id": "8aee308e",
   "metadata": {},
   "outputs": [],
   "source": [
    "# Compile the model\n",
    "model.compile(\n",
    "    loss='categorical_crossentropy',\n",
    "    optimizer=Adam(learning_rate=0.001),\n",
    "    metrics=['accuracy']\n",
    ")"
   ]
  },
  {
   "cell_type": "code",
   "execution_count": 56,
   "id": "21473924",
   "metadata": {},
   "outputs": [
    {
     "name": "stdout",
     "output_type": "stream",
     "text": [
      "Epoch 1/10\n",
      "60/60 [==============================] - 130s 2s/step - loss: 1.1206 - accuracy: 0.6568 - val_loss: 0.5013 - val_accuracy: 0.8591\n",
      "Epoch 2/10\n",
      "60/60 [==============================] - 126s 2s/step - loss: 0.4404 - accuracy: 0.8656 - val_loss: 0.3086 - val_accuracy: 0.9091\n",
      "Epoch 3/10\n",
      "60/60 [==============================] - 141s 2s/step - loss: 0.3182 - accuracy: 0.9000 - val_loss: 0.2154 - val_accuracy: 0.9409\n",
      "Epoch 4/10\n",
      "60/60 [==============================] - 130s 2s/step - loss: 0.2637 - accuracy: 0.9250 - val_loss: 0.1782 - val_accuracy: 0.9466\n",
      "Epoch 5/10\n",
      "60/60 [==============================] - 131s 2s/step - loss: 0.2202 - accuracy: 0.9312 - val_loss: 0.1720 - val_accuracy: 0.9455\n",
      "Epoch 6/10\n",
      "60/60 [==============================] - 126s 2s/step - loss: 0.1605 - accuracy: 0.9495 - val_loss: 0.1330 - val_accuracy: 0.9534\n",
      "Epoch 7/10\n",
      "60/60 [==============================] - 126s 2s/step - loss: 0.1340 - accuracy: 0.9620 - val_loss: 0.1343 - val_accuracy: 0.9670\n",
      "Epoch 8/10\n",
      "60/60 [==============================] - 126s 2s/step - loss: 0.1155 - accuracy: 0.9688 - val_loss: 0.1147 - val_accuracy: 0.9636\n",
      "Epoch 9/10\n",
      "60/60 [==============================] - 125s 2s/step - loss: 0.1148 - accuracy: 0.9651 - val_loss: 0.1031 - val_accuracy: 0.9659\n",
      "Epoch 10/10\n",
      "60/60 [==============================] - 131s 2s/step - loss: 0.1002 - accuracy: 0.9745 - val_loss: 0.1058 - val_accuracy: 0.9659\n"
     ]
    }
   ],
   "source": [
    "# Train the model\n",
    "history = model.fit(\n",
    "    training_set,\n",
    "    validation_data=test_set,\n",
    "    epochs=10,\n",
    "    steps_per_epoch=len(training_set),\n",
    "    validation_steps=len(test_set)\n",
    ")"
   ]
  },
  {
   "cell_type": "code",
   "execution_count": 57,
   "id": "6c8e0a84",
   "metadata": {},
   "outputs": [],
   "source": [
    "# Save the model\n",
    "model.save('melon_species_Inceptionv3.h5')"
   ]
  },
  {
   "cell_type": "code",
   "execution_count": 58,
   "id": "cbac2104",
   "metadata": {},
   "outputs": [
    {
     "data": {
      "text/plain": [
       "<matplotlib.legend.Legend at 0x283dcf6a3d0>"
      ]
     },
     "execution_count": 58,
     "metadata": {},
     "output_type": "execute_result"
    },
    {
     "data": {
      "image/png": "[encoded data removed]",
      "text/plain": [
       "<Figure size 640x480 with 1 Axes>"
      ]
     },
     "metadata": {},
     "output_type": "display_data"
    }
   ],
   "source": [
    "# Plot loss and accuracy curves\n",
    "plt.subplot(1, 2, 1)\n",
    "plt.plot(history.history['loss'], label='train loss')\n",
    "plt.plot(history.history['val_loss'], label='val loss')\n",
    "plt.legend()"
   ]
  },
  {
   "cell_type": "code",
   "execution_count": 59,
   "id": "070fb112",
   "metadata": {},
   "outputs": [
    {
     "data": {
      "text/plain": [
       "<matplotlib.legend.Legend at 0x283dcbe5310>"
      ]
     },
     "execution_count": 59,
     "metadata": {},
     "output_type": "execute_result"
    },
    {
     "data": {
      "image/png": "[encoded data removed]",
      "text/plain": [
       "<Figure size 640x480 with 1 Axes>"
      ]
     },
     "metadata": {},
     "output_type": "display_data"
    }
   ],
   "source": [
    "plt.subplot(1, 2, 2)\n",
    "plt.plot(history.history['accuracy'], label='train accuracy')\n",
    "plt.plot(history.history['val_accuracy'], label='val accuracy')\n",
    "plt.legend()"
   ]
  },
  {
   "cell_type": "code",
   "execution_count": null,
   "id": "730e15b1",
   "metadata": {},
   "outputs": [],
   "source": []
  }
 ],
 "metadata": {
  "kernelspec": {
   "display_name": "Python 3 (ipykernel)",
   "language": "python",
   "name": "python3"
  },
  "language_info": {
   "codemirror_mode": {
    "name": "ipython",
    "version": 3
   },
   "file_extension": ".py",
   "mimetype": "text/x-python",
   "name": "python",
   "nbconvert_exporter": "python",
   "pygments_lexer": "ipython3",
   "version": "3.11.5"
  }
 },
 "nbformat": 4,
 "nbformat_minor": 5
}
